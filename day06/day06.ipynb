{
 "cells": [
  {
   "cell_type": "code",
   "execution_count": 24,
   "metadata": {
    "collapsed": true
   },
   "outputs": [],
   "source": [
    "import math"
   ]
  },
  {
   "cell_type": "code",
   "execution_count": 2,
   "metadata": {
    "collapsed": true
   },
   "outputs": [],
   "source": [
    "with open('./input.txt') as f:\n",
    "    data = f.read().strip().split('\\t')\n",
    "\n",
    "data = list(map(int, data))\n",
    "data = tuple(data)"
   ]
  },
  {
   "cell_type": "markdown",
   "metadata": {},
   "source": [
    "### part 1"
   ]
  },
  {
   "cell_type": "code",
   "execution_count": 14,
   "metadata": {
    "scrolled": true
   },
   "outputs": [
    {
     "name": "stdout",
     "output_type": "stream",
     "text": [
      "done in 14029\n"
     ]
    }
   ],
   "source": [
    "len_data = len(data)\n",
    "history = set()\n",
    "tmp = data\n",
    "\n",
    "while True:\n",
    "    val = max(tmp)\n",
    "    val_ix = tmp.index(val)\n",
    "    \n",
    "    min_delta = math.floor(val / len_data)\n",
    "    mod_delta = val % len_data\n",
    "\n",
    "    offset = (((ix-val_ix-1)%len_data) < mod_delta for ix in range(len_data))\n",
    "    offset = map(int, offset)    \n",
    "    offset = map(sum, zip((min_delta for _ in range(len_data)), offset))\n",
    "\n",
    "    tmp = (val if ix != val_ix else 0 for ix, val in enumerate(tmp))\n",
    "    tmp = map(sum, zip(tmp,offset))\n",
    "    tmp = tuple(tmp)\n",
    "    \n",
    "    if tmp in history:\n",
    "        print('done in',len(history) + 1)\n",
    "        break\n",
    "        \n",
    "    history.add(tmp)"
   ]
  },
  {
   "cell_type": "markdown",
   "metadata": {},
   "source": [
    "### part 2"
   ]
  },
  {
   "cell_type": "code",
   "execution_count": 23,
   "metadata": {
    "scrolled": true
   },
   "outputs": [
    {
     "name": "stdout",
     "output_type": "stream",
     "text": [
      "done in 2765\n"
     ]
    }
   ],
   "source": [
    "len_data = len(data)\n",
    "history = {}\n",
    "tmp = data\n",
    "iteration = 0\n",
    "\n",
    "while True:\n",
    "    iteration += 1\n",
    "    val = max(tmp)\n",
    "    val_ix = tmp.index(val)\n",
    "    \n",
    "    min_delta = math.floor(val / len_data)\n",
    "    mod_delta = val % len_data\n",
    "\n",
    "    offset = (((ix-val_ix-1)%len_data) < mod_delta for ix in range(len_data))\n",
    "    offset = map(int, offset)    \n",
    "    offset = map(sum, zip((min_delta for _ in range(len_data)), offset))\n",
    "\n",
    "    tmp = (val if ix != val_ix else 0 for ix, val in enumerate(tmp))\n",
    "    tmp = map(sum, zip(tmp,offset))\n",
    "    tmp = tuple(tmp)\n",
    "    \n",
    "    if tmp in history:\n",
    "        print('done in',len(history) + 1 - history[tmp])\n",
    "        break\n",
    "        \n",
    "    history[tmp] = iteration"
   ]
  }
 ],
 "metadata": {
  "kernelspec": {
   "display_name": "Python 3",
   "language": "python",
   "name": "python3"
  },
  "language_info": {
   "codemirror_mode": {
    "name": "ipython",
    "version": 3
   },
   "file_extension": ".py",
   "mimetype": "text/x-python",
   "name": "python",
   "nbconvert_exporter": "python",
   "pygments_lexer": "ipython3",
   "version": "3.6.3"
  }
 },
 "nbformat": 4,
 "nbformat_minor": 2
}
