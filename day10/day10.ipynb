{
 "cells": [
  {
   "cell_type": "code",
   "execution_count": 480,
   "metadata": {
    "collapsed": true
   },
   "outputs": [],
   "source": [
    "from functools import reduce\n",
    "from operator import xor      "
   ]
  },
  {
   "cell_type": "code",
   "execution_count": 115,
   "metadata": {
    "collapsed": true
   },
   "outputs": [],
   "source": [
    "with open('./input.txt','r') as f:\n",
    "    raw_data = f.read().strip()"
   ]
  },
  {
   "cell_type": "code",
   "execution_count": 264,
   "metadata": {
    "collapsed": true
   },
   "outputs": [],
   "source": [
    "lengths = list(map(int,raw_data.split(',')))\n",
    "knot_data = list(range(256))"
   ]
  },
  {
   "cell_type": "code",
   "execution_count": 318,
   "metadata": {},
   "outputs": [],
   "source": [
    "# %%timeit\n",
    "lengths = list(map(int,raw_data.split(',')))\n",
    "knot_data = list(range(256))\n",
    "len_knot = len(knot_data)\n",
    "max_knot_ix = len_knot -1\n",
    "skip = 0\n",
    "current = 0\n",
    "\n",
    "for length in lengths:\n",
    "    if length > 1:\n",
    "        lbound = current\n",
    "        ubound = current + length -1\n",
    "\n",
    "        # if regular slicing, continue        \n",
    "        if ubound <= max_knot_ix:\n",
    "            knot_data = knot_data[:lbound] + knot_data[lbound:ubound+1][::-1] + knot_data[ubound+1:]\n",
    "            \n",
    "        # if wrapping list, double list, slice, then reassemble\n",
    "        else:\n",
    "            knot_data = knot_data + knot_data\n",
    "            knot_data = knot_data[:lbound] + knot_data[lbound:ubound+1][::-1] + knot_data[ubound+1:]\n",
    "            knot_data = knot_data[max_knot_ix+1:ubound+1] + knot_data[ubound-max_knot_ix:len_knot]\n",
    "            \n",
    "    current += (length + skip)\n",
    "    current = current % len_knot\n",
    "        \n",
    "    skip += 1"
   ]
  },
  {
   "cell_type": "code",
   "execution_count": 319,
   "metadata": {},
   "outputs": [
    {
     "data": {
      "text/plain": [
       "7888"
      ]
     },
     "execution_count": 319,
     "metadata": {},
     "output_type": "execute_result"
    }
   ],
   "source": [
    "knot_data[0] * knot_data[1]"
   ]
  },
  {
   "cell_type": "markdown",
   "metadata": {},
   "source": [
    "### part 2"
   ]
  },
  {
   "cell_type": "code",
   "execution_count": 561,
   "metadata": {},
   "outputs": [
    {
     "name": "stdout",
     "output_type": "stream",
     "text": [
      "decdf7d377879877173b7f2fb131cf1b\n"
     ]
    }
   ],
   "source": [
    "with open('./input.txt','r') as f:\n",
    "    ascii_lengths = [ord(x) for x in f.read().strip()]\n",
    "\n",
    "ascii_lengths.extend([17, 31, 73, 47, 23])\n",
    "\n",
    "knot_data = list(range(256))\n",
    "len_knot = len(knot_data)\n",
    "max_knot_ix = len_knot -1\n",
    "skip = 0\n",
    "current = 0\n",
    "\n",
    "for _ in range(64):\n",
    "    for length in ascii_lengths:\n",
    "        if length > 1:\n",
    "            lbound = current\n",
    "            ubound = current + length -1\n",
    "\n",
    "            # if regular slicing, continue        \n",
    "            if ubound <= max_knot_ix:\n",
    "                knot_data = knot_data[:lbound] + knot_data[lbound:ubound+1][::-1] + knot_data[ubound+1:]\n",
    "\n",
    "            # if wrapping list, double list, slice, then reassemble\n",
    "            else:\n",
    "                knot_data = knot_data + knot_data\n",
    "                knot_data = knot_data[:lbound] + knot_data[lbound:ubound+1][::-1] + knot_data[ubound+1:]\n",
    "                knot_data = knot_data[max_knot_ix+1:ubound+1] + knot_data[ubound-max_knot_ix:len_knot]\n",
    "\n",
    "        current += (length + skip)\n",
    "        current = current % len_knot\n",
    "\n",
    "        skip += 1\n",
    "\n",
    "dense_hash = []\n",
    "for x in range(0,16):\n",
    "    tmp = knot_data[16*x:16*(x+1)]\n",
    "    dense_hash.append(hex(reduce(xor, tmp)).split('x',1)[1].zfill(2))\n",
    "\n",
    "print(''.join(dense_hash))"
   ]
  }
 ],
 "metadata": {
  "kernelspec": {
   "display_name": "Python 3",
   "language": "python",
   "name": "python3"
  },
  "language_info": {
   "codemirror_mode": {
    "name": "ipython",
    "version": 3
   },
   "file_extension": ".py",
   "mimetype": "text/x-python",
   "name": "python",
   "nbconvert_exporter": "python",
   "pygments_lexer": "ipython3",
   "version": "3.6.3"
  }
 },
 "nbformat": 4,
 "nbformat_minor": 2
}
