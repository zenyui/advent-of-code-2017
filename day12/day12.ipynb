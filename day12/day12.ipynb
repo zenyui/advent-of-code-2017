{
 "cells": [
  {
   "cell_type": "code",
   "execution_count": 32,
   "metadata": {
    "collapsed": true
   },
   "outputs": [],
   "source": [
    "with open('./input.txt','r') as f:\n",
    "    raw_data = f.read().strip().splitlines()\n",
    "\n",
    "data = {}\n",
    "for row in raw_data:\n",
    "    \n",
    "    id, others = row.replace(' ','').split('<->')\n",
    "    id = int(id)\n",
    "    others = [int(o) for o in others.replace(' ','').split(',')]\n",
    "    data[id] = others"
   ]
  },
  {
   "cell_type": "markdown",
   "metadata": {},
   "source": [
    "### part 1"
   ]
  },
  {
   "cell_type": "code",
   "execution_count": 75,
   "metadata": {
    "collapsed": true
   },
   "outputs": [],
   "source": [
    "seen = set()\n",
    "groups = []\n",
    "group = set()\n",
    "\n",
    "check = set()\n",
    "check.add(0)\n",
    "\n",
    "while check:\n",
    "    node = check.pop()\n",
    "    if not node in seen:\n",
    "        group.add(node)\n",
    "        seen.add(node)\n",
    "        \n",
    "    for child in data[node]:\n",
    "        if not child in seen:\n",
    "            check.add(child)\n",
    "            \n",
    "    if not check:\n",
    "        groups.append(group)\n",
    "        group = set()\n",
    "        remainder = set(data.keys()).difference(seen)\n",
    "        if remainder:\n",
    "            check.add(remainder.pop())"
   ]
  },
  {
   "cell_type": "markdown",
   "metadata": {},
   "source": [
    "### part 1"
   ]
  },
  {
   "cell_type": "code",
   "execution_count": 76,
   "metadata": {},
   "outputs": [
    {
     "data": {
      "text/plain": [
       "134"
      ]
     },
     "execution_count": 76,
     "metadata": {},
     "output_type": "execute_result"
    }
   ],
   "source": [
    "len(groups[0])"
   ]
  },
  {
   "cell_type": "markdown",
   "metadata": {},
   "source": [
    "### part 2"
   ]
  },
  {
   "cell_type": "code",
   "execution_count": 77,
   "metadata": {},
   "outputs": [
    {
     "data": {
      "text/plain": [
       "193"
      ]
     },
     "execution_count": 77,
     "metadata": {},
     "output_type": "execute_result"
    }
   ],
   "source": [
    "len(groups)"
   ]
  }
 ],
 "metadata": {
  "kernelspec": {
   "display_name": "Python 3",
   "language": "python",
   "name": "python3"
  },
  "language_info": {
   "codemirror_mode": {
    "name": "ipython",
    "version": 3
   },
   "file_extension": ".py",
   "mimetype": "text/x-python",
   "name": "python",
   "nbconvert_exporter": "python",
   "pygments_lexer": "ipython3",
   "version": "3.6.3"
  }
 },
 "nbformat": 4,
 "nbformat_minor": 2
}
