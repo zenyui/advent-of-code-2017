{
 "cells": [
  {
   "cell_type": "code",
   "execution_count": 11,
   "metadata": {
    "collapsed": true
   },
   "outputs": [],
   "source": [
    "with open('./input.txt','r') as f:\n",
    "    raw_data=f.read().strip()"
   ]
  },
  {
   "cell_type": "code",
   "execution_count": 133,
   "metadata": {},
   "outputs": [],
   "source": [
    "class Group():\n",
    "    def __init__(self, level, start_ix, end_ix=None, parent=None, children=None):\n",
    "        self.level = level\n",
    "        self.start_ix = start_ix\n",
    "        self.end_ix = end_ix\n",
    "        self.children = children if children else []\n",
    "        self.parent = parent\n",
    "    \n",
    "    def sum_branch(self):\n",
    "        if not self.children:\n",
    "            return self.level\n",
    "        \n",
    "        return self.level + sum(c.sum_branch() for c in self.children)\n",
    "        \n",
    "    @classmethod\n",
    "    def from_parent(cls, parent, ix):\n",
    "        child = cls(level = parent.level+1, parent=parent, start_ix=ix)\n",
    "        parent.children.append(child)\n",
    "        return child"
   ]
  },
  {
   "cell_type": "code",
   "execution_count": 134,
   "metadata": {
    "collapsed": true
   },
   "outputs": [],
   "source": [
    "START_GROUP = '{'\n",
    "END_GROUP = '}'\n",
    "START_GARBAGE = '<'\n",
    "END_GARBAGE = '>'\n",
    "CANCEL = '!'"
   ]
  },
  {
   "cell_type": "markdown",
   "metadata": {},
   "source": [
    "### part 1"
   ]
  },
  {
   "cell_type": "code",
   "execution_count": 144,
   "metadata": {},
   "outputs": [],
   "source": [
    "root_group = Group(level=1, parent=None, start_ix=0)\n",
    "group = root_group\n",
    "is_garbage = False\n",
    "ix = 1\n",
    "len_data = len(raw_data)"
   ]
  },
  {
   "cell_type": "code",
   "execution_count": 145,
   "metadata": {},
   "outputs": [],
   "source": [
    "while ix < len_data:\n",
    "    c = raw_data[ix]\n",
    "\n",
    "    # if CANCEL char, skip next\n",
    "    if c == CANCEL:\n",
    "        ix += 2\n",
    "        continue\n",
    "\n",
    "    if is_garbage:\n",
    "        if c==END_GARBAGE:\n",
    "            is_garbage = False\n",
    "\n",
    "    elif is_garbage==False and c == START_GARBAGE:\n",
    "        is_garbage = True\n",
    "\n",
    "    # if not in garbage\n",
    "    else:\n",
    "        if c==START_GROUP:\n",
    "            group = Group.from_parent(group, ix)\n",
    "\n",
    "        elif c==END_GROUP:\n",
    "            group.end_ix = ix\n",
    "            group = group.parent\n",
    "\n",
    "    ix += 1"
   ]
  },
  {
   "cell_type": "code",
   "execution_count": 147,
   "metadata": {},
   "outputs": [
    {
     "data": {
      "text/plain": [
       "11347"
      ]
     },
     "execution_count": 147,
     "metadata": {},
     "output_type": "execute_result"
    }
   ],
   "source": [
    "root_group.sum_branch()"
   ]
  },
  {
   "cell_type": "markdown",
   "metadata": {},
   "source": [
    "### part 2"
   ]
  },
  {
   "cell_type": "code",
   "execution_count": 148,
   "metadata": {
    "collapsed": true
   },
   "outputs": [],
   "source": [
    "root_group = Group(level=1, parent=None, start_ix=0)\n",
    "group = root_group\n",
    "is_garbage = False\n",
    "ix = 1\n",
    "len_data = len(raw_data)\n",
    "garbage = 0"
   ]
  },
  {
   "cell_type": "code",
   "execution_count": 149,
   "metadata": {},
   "outputs": [],
   "source": [
    "while ix < len_data:    \n",
    "    c = raw_data[ix]\n",
    "\n",
    "    # if CANCEL char, skip next\n",
    "    if c == CANCEL:\n",
    "        ix += 2\n",
    "        continue\n",
    "\n",
    "    if is_garbage:\n",
    "        if c==END_GARBAGE:\n",
    "            is_garbage = False\n",
    "        else:\n",
    "            garbage += 1\n",
    "\n",
    "    elif is_garbage==False and c == START_GARBAGE:\n",
    "        is_garbage = True\n",
    "\n",
    "    # if not in garbage\n",
    "    else:\n",
    "        if c==START_GROUP:\n",
    "            group = Group.from_parent(group, ix)\n",
    "\n",
    "        elif c==END_GROUP:\n",
    "            group.end_ix = ix\n",
    "            group = group.parent\n",
    "\n",
    "    ix += 1"
   ]
  },
  {
   "cell_type": "code",
   "execution_count": 150,
   "metadata": {},
   "outputs": [
    {
     "data": {
      "text/plain": [
       "5404"
      ]
     },
     "execution_count": 150,
     "metadata": {},
     "output_type": "execute_result"
    }
   ],
   "source": [
    "garbage"
   ]
  }
 ],
 "metadata": {
  "kernelspec": {
   "display_name": "Python 3",
   "language": "python",
   "name": "python3"
  },
  "language_info": {
   "codemirror_mode": {
    "name": "ipython",
    "version": 3
   },
   "file_extension": ".py",
   "mimetype": "text/x-python",
   "name": "python",
   "nbconvert_exporter": "python",
   "pygments_lexer": "ipython3",
   "version": "3.6.3"
  }
 },
 "nbformat": 4,
 "nbformat_minor": 2
}
