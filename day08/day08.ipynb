{
 "cells": [
  {
   "cell_type": "code",
   "execution_count": 46,
   "metadata": {
    "collapsed": true
   },
   "outputs": [],
   "source": [
    "with open('./input.txt','r') as f:\n",
    "    raw_data = f.read().strip()\n",
    "\n",
    "instructions = raw_data.splitlines()"
   ]
  },
  {
   "cell_type": "code",
   "execution_count": 48,
   "metadata": {
    "collapsed": true
   },
   "outputs": [],
   "source": [
    "def dynamic_ops(operator, x, y):\n",
    "    if operator == '!=':\n",
    "        return x!=y\n",
    "    elif operator == '<':\n",
    "        return x<y\n",
    "    elif operator == '<=':\n",
    "        return x<=y\n",
    "    elif operator == '>':\n",
    "        return x>y\n",
    "    elif operator == '>=':\n",
    "        return x>=y\n",
    "    elif operator == '==':\n",
    "        return x==y\n",
    "    else:\n",
    "        raise ValueError('Unknown operator {}'.format(operator))"
   ]
  },
  {
   "cell_type": "code",
   "execution_count": 47,
   "metadata": {
    "collapsed": true
   },
   "outputs": [],
   "source": [
    "register = {}\n",
    "\n",
    "for instruction in instructions:\n",
    "    instruction = instruction.split(' ')\n",
    "    id, direction, amount, _, target, operator, value = instruction\n",
    "    amount = int(amount)\n",
    "    value = int(value)\n",
    "    \n",
    "    if dynamic_ops(operator, register.get(target,0), value):\n",
    "        if direction == 'dec':\n",
    "            amount *= -1\n",
    "            \n",
    "        new_val = register.get(id,0) + amount\n",
    "        max_val = max(max_val, new_val)\n",
    "        register[id] = new_val"
   ]
  },
  {
   "cell_type": "code",
   "execution_count": 57,
   "metadata": {},
   "outputs": [
    {
     "data": {
      "text/plain": [
       "4902"
      ]
     },
     "execution_count": 57,
     "metadata": {},
     "output_type": "execute_result"
    }
   ],
   "source": [
    "# part 1\n",
    "max(register.values())"
   ]
  },
  {
   "cell_type": "code",
   "execution_count": 58,
   "metadata": {},
   "outputs": [
    {
     "data": {
      "text/plain": [
       "7037"
      ]
     },
     "execution_count": 58,
     "metadata": {},
     "output_type": "execute_result"
    }
   ],
   "source": [
    "# part 2\n",
    "max_val"
   ]
  },
  {
   "cell_type": "code",
   "execution_count": null,
   "metadata": {
    "collapsed": true
   },
   "outputs": [],
   "source": []
  }
 ],
 "metadata": {
  "kernelspec": {
   "display_name": "Python 3",
   "language": "python",
   "name": "python3"
  },
  "language_info": {
   "codemirror_mode": {
    "name": "ipython",
    "version": 3
   },
   "file_extension": ".py",
   "mimetype": "text/x-python",
   "name": "python",
   "nbconvert_exporter": "python",
   "pygments_lexer": "ipython3",
   "version": "3.6.3"
  }
 },
 "nbformat": 4,
 "nbformat_minor": 2
}
