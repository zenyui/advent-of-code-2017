{
 "cells": [
  {
   "cell_type": "code",
   "execution_count": 1,
   "metadata": {
    "collapsed": true
   },
   "outputs": [],
   "source": [
    "# import re\n",
    "from collections import Counter"
   ]
  },
  {
   "cell_type": "code",
   "execution_count": 2,
   "metadata": {
    "collapsed": true
   },
   "outputs": [],
   "source": [
    "with open('./input.txt','r') as f:\n",
    "    steps = f.read().strip()"
   ]
  },
  {
   "cell_type": "markdown",
   "metadata": {},
   "source": [
    "### part 1"
   ]
  },
  {
   "cell_type": "code",
   "execution_count": 3,
   "metadata": {},
   "outputs": [],
   "source": [
    "steps = dict(Counter(steps.split(',')))"
   ]
  },
  {
   "cell_type": "code",
   "execution_count": 4,
   "metadata": {
    "collapsed": true
   },
   "outputs": [],
   "source": [
    "def apply_combo(steps, a, b, outcome=None):\n",
    "    '''cancel or convert steps'''\n",
    "    if a in steps and b in steps:\n",
    "        if steps[a] > steps[b]:\n",
    "            apply_combo(steps, b, a, outcome)\n",
    "        else:\n",
    "            tmp = steps[a]\n",
    "            steps[a] = 0\n",
    "            steps[b] -= tmp\n",
    "            if outcome:\n",
    "                steps[outcome] += tmp"
   ]
  },
  {
   "cell_type": "code",
   "execution_count": 5,
   "metadata": {},
   "outputs": [],
   "source": [
    "apply_combo(steps, 'ne','nw','n')\n",
    "apply_combo(steps, 'se','sw','s')\n",
    "apply_combo(steps, 'n','s')\n",
    "apply_combo(steps, 'e','w')"
   ]
  },
  {
   "cell_type": "code",
   "execution_count": 6,
   "metadata": {
    "collapsed": true
   },
   "outputs": [],
   "source": [
    "pos = [0,0,0]\n",
    "step_map = {\n",
    "    'n': (0,1,-1),\n",
    "    's': (0,-1,1),\n",
    "    'ne': (1,0,-1),\n",
    "    'sw': (-1,0,1),\n",
    "    'nw': (-1,1,0),\n",
    "    'se': (1,-1,0),\n",
    "}"
   ]
  },
  {
   "cell_type": "code",
   "execution_count": 7,
   "metadata": {},
   "outputs": [],
   "source": [
    "for k,v in steps.items():\n",
    "    if v == 0:\n",
    "        continue\n",
    "        \n",
    "    move = step_map[k]\n",
    "    for ix, amount in enumerate(move):\n",
    "        if amount != 0:\n",
    "            pos[ix] += (v * amount)"
   ]
  },
  {
   "cell_type": "code",
   "execution_count": 12,
   "metadata": {},
   "outputs": [
    {
     "data": {
      "text/plain": [
       "[-267, -543, 810]"
      ]
     },
     "execution_count": 12,
     "metadata": {},
     "output_type": "execute_result"
    }
   ],
   "source": [
    "pos"
   ]
  },
  {
   "cell_type": "code",
   "execution_count": 34,
   "metadata": {},
   "outputs": [
    {
     "data": {
      "text/plain": [
       "810"
      ]
     },
     "execution_count": 34,
     "metadata": {},
     "output_type": "execute_result"
    }
   ],
   "source": [
    "int(sum(map(abs,pos))/2)"
   ]
  },
  {
   "cell_type": "markdown",
   "metadata": {},
   "source": [
    "### part 2"
   ]
  },
  {
   "cell_type": "code",
   "execution_count": 30,
   "metadata": {
    "collapsed": true
   },
   "outputs": [],
   "source": [
    "with open('./input.txt','r') as f:\n",
    "    steps = f.read().strip().split(',')"
   ]
  },
  {
   "cell_type": "code",
   "execution_count": 31,
   "metadata": {
    "collapsed": true
   },
   "outputs": [],
   "source": [
    "pos = [0,0,0]\n",
    "step_map = {\n",
    "    'n': (0,1,-1),\n",
    "    's': (0,-1,1),\n",
    "    'ne': (1,0,-1),\n",
    "    'sw': (-1,0,1),\n",
    "    'nw': (-1,1,0),\n",
    "    'se': (1,-1,0),\n",
    "}"
   ]
  },
  {
   "cell_type": "code",
   "execution_count": 32,
   "metadata": {},
   "outputs": [],
   "source": [
    "distances = []\n",
    "for step in steps:\n",
    "    move = step_map[step]\n",
    "    for ix, amount in enumerate(move):\n",
    "        if amount != 0:\n",
    "            pos[ix] += amount\n",
    "    distances.append(sum(map(abs,pos))/2)"
   ]
  },
  {
   "cell_type": "code",
   "execution_count": 33,
   "metadata": {},
   "outputs": [
    {
     "data": {
      "text/plain": [
       "1567"
      ]
     },
     "execution_count": 33,
     "metadata": {},
     "output_type": "execute_result"
    }
   ],
   "source": [
    "int(max(distances))"
   ]
  }
 ],
 "metadata": {
  "kernelspec": {
   "display_name": "Python 3",
   "language": "python",
   "name": "python3"
  },
  "language_info": {
   "codemirror_mode": {
    "name": "ipython",
    "version": 3
   },
   "file_extension": ".py",
   "mimetype": "text/x-python",
   "name": "python",
   "nbconvert_exporter": "python",
   "pygments_lexer": "ipython3",
   "version": "3.6.3"
  }
 },
 "nbformat": 4,
 "nbformat_minor": 2
}
