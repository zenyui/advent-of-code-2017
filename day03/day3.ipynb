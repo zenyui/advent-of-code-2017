{
 "cells": [
  {
   "cell_type": "markdown",
   "metadata": {},
   "source": [
    "### part 2"
   ]
  },
  {
   "cell_type": "code",
   "execution_count": 100,
   "metadata": {},
   "outputs": [],
   "source": [
    "def next_coordinate(last):\n",
    "    if last == (0,0):\n",
    "        return (1,0)\n",
    "        \n",
    "    x,y = last\n",
    "    radius = max(abs(x), abs(y))\n",
    "    x_lock = (abs(x) == radius)\n",
    "    y_lock = (abs(y) == radius)\n",
    "    \n",
    "    if x_lock and y_lock:\n",
    "        if x>0:\n",
    "            if y>0:\n",
    "                # top right\n",
    "                return (x-1, y)\n",
    "            else:\n",
    "                # bottom right\n",
    "                return (x+1, y)\n",
    "        else:\n",
    "            if y>0:\n",
    "                # top left\n",
    "                return (x, y-1)\n",
    "            else:\n",
    "                # bottom left\n",
    "                return (x+1, y)\n",
    "            \n",
    "    if x_lock:\n",
    "        if x>0:\n",
    "            return (x, y+1)\n",
    "        else:\n",
    "            return (x, y-1)\n",
    "    \n",
    "    if y_lock:\n",
    "        if y>0:\n",
    "            return (x-1, y)\n",
    "        else:\n",
    "            return (x+1, y)"
   ]
  },
  {
   "cell_type": "code",
   "execution_count": 101,
   "metadata": {
    "collapsed": true
   },
   "outputs": [],
   "source": [
    "def get_adjacent_coordinates(coordinate):\n",
    "    x,y = coordinate\n",
    "    dist = (-1,0,1)\n",
    "    for i in dist:\n",
    "        for j in dist:\n",
    "            if not (i==0 and j==0):\n",
    "                yield (x+i, y+j)"
   ]
  },
  {
   "cell_type": "code",
   "execution_count": 105,
   "metadata": {},
   "outputs": [
    {
     "name": "stdout",
     "output_type": "stream",
     "text": [
      "349975\n"
     ]
    }
   ],
   "source": [
    "val_store = {\n",
    "    (0,0): 1\n",
    "}\n",
    "\n",
    "target = 347991\n",
    "z = (0,0)\n",
    "value = 0\n",
    "\n",
    "while value < target:\n",
    "    z = next_coordinate(z)\n",
    "    value = 0\n",
    "    \n",
    "    for adj in get_adjacent_coordinates(z):\n",
    "        value += val_store.get(adj,0)\n",
    "        \n",
    "    val_store[z] = value\n",
    "        \n",
    "print(value)"
   ]
  },
  {
   "cell_type": "code",
   "execution_count": 78,
   "metadata": {},
   "outputs": [
    {
     "data": {
      "text/plain": [
       "(2, -1)"
      ]
     },
     "execution_count": 78,
     "metadata": {},
     "output_type": "execute_result"
    }
   ],
   "source": [
    "next_coordinate((1))"
   ]
  },
  {
   "cell_type": "code",
   "execution_count": 89,
   "metadata": {},
   "outputs": [
    {
     "name": "stdout",
     "output_type": "stream",
     "text": [
      "80 (4, -4)\n"
     ]
    }
   ],
   "source": [
    "z = (0,0)\n",
    "\n",
    "for i in range(1,81):\n",
    "    if z is None:\n",
    "        break\n",
    "    z = next_coordinate(z)\n",
    "\n",
    "print(i,z)"
   ]
  },
  {
   "cell_type": "code",
   "execution_count": 98,
   "metadata": {},
   "outputs": [
    {
     "data": {
      "text/plain": [
       "[(1, -3), (1, -2), (1, -1), (2, -3), (2, -1), (3, -3), (3, -2), (3, -1)]"
      ]
     },
     "execution_count": 98,
     "metadata": {},
     "output_type": "execute_result"
    }
   ],
   "source": [
    "list(get_adjacent_coordinates((2,-2)))"
   ]
  },
  {
   "cell_type": "markdown",
   "metadata": {},
   "source": [
    "0,0\n",
    "1,0\n",
    "1,1\n",
    "0,1\n",
    "-1,1\n",
    "-1,0\n",
    "-1,-1\n",
    "0,-1\n",
    "1,-1,\n",
    "2,-1,\n",
    "2,0,\n",
    "2,1,\n",
    "2,2\n",
    "1,2\n",
    "0,2\n",
    "-1,2"
   ]
  }
 ],
 "metadata": {
  "kernelspec": {
   "display_name": "Python 3",
   "language": "python",
   "name": "python3"
  },
  "language_info": {
   "codemirror_mode": {
    "name": "ipython",
    "version": 3
   },
   "file_extension": ".py",
   "mimetype": "text/x-python",
   "name": "python",
   "nbconvert_exporter": "python",
   "pygments_lexer": "ipython3",
   "version": "3.6.3"
  }
 },
 "nbformat": 4,
 "nbformat_minor": 2
}
