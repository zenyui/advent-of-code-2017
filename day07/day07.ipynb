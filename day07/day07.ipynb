{
 "cells": [
  {
   "cell_type": "code",
   "execution_count": 258,
   "metadata": {},
   "outputs": [],
   "source": [
    "import re\n",
    "from collections import Counter"
   ]
  },
  {
   "cell_type": "code",
   "execution_count": 2,
   "metadata": {
    "collapsed": true
   },
   "outputs": [],
   "source": [
    "with open('input.txt') as f:\n",
    "    data = f.read().strip().splitlines()"
   ]
  },
  {
   "cell_type": "code",
   "execution_count": 378,
   "metadata": {
    "collapsed": true
   },
   "outputs": [],
   "source": [
    "class Node():\n",
    "    '''Node class in a tree graph that can compute sum of child weights'''\n",
    "    \n",
    "    def __init__(self, id, weight, parent=None, children=None):\n",
    "        self.id = id\n",
    "        self.weight = weight\n",
    "        self.parent = parent\n",
    "        self.children = children if children else []\n",
    "        self._children_sum = None\n",
    "    \n",
    "    @property\n",
    "    def siblings(self):\n",
    "        return self.parent.children\n",
    "    \n",
    "    def sum_branch(self):\n",
    "        return self.sum_children() + self.weight\n",
    "    \n",
    "    def sum_children(self):\n",
    "        if self._children_sum:\n",
    "            return self._children_sum\n",
    "        \n",
    "        if not self.children:\n",
    "            return 0\n",
    "        \n",
    "        output = 0\n",
    "        for child in self.children:\n",
    "            output += child.weight\n",
    "            output += child.sum_children()\n",
    "            \n",
    "        self._children_sum = output\n",
    "        \n",
    "        return output"
   ]
  },
  {
   "cell_type": "code",
   "execution_count": 379,
   "metadata": {
    "collapsed": true
   },
   "outputs": [],
   "source": [
    "nodes = {}\n",
    "nodes_with_children = []\n",
    "\n",
    "for row in data:\n",
    "    payload = row.split('->')\n",
    "    id, weight = payload[0].strip().split(' ')\n",
    "    weight = int(re.sub(r'[\\(\\)]','',weight))\n",
    "    children = payload[1].replace(' ','').split(',') if len(payload)>1 else None\n",
    "    node = Node(id, weight, children=children)\n",
    "    if node.children:\n",
    "        nodes_with_children.append(node)\n",
    "    nodes[id] = node\n",
    "    \n",
    "for node in nodes_with_children:\n",
    "    tmp = []\n",
    "    for child_id in node.children:\n",
    "        child = nodes[child_id]\n",
    "        tmp.append(child)\n",
    "        child.parent=node\n",
    "    node.children = tmp"
   ]
  },
  {
   "cell_type": "markdown",
   "metadata": {},
   "source": [
    "### part 1"
   ]
  },
  {
   "cell_type": "code",
   "execution_count": 380,
   "metadata": {},
   "outputs": [],
   "source": [
    "root_node = nodes_with_children[0]\n",
    "while True:\n",
    "    if not root_node.parent:\n",
    "        break\n",
    "    root_node = root_node.parent"
   ]
  },
  {
   "cell_type": "code",
   "execution_count": 381,
   "metadata": {},
   "outputs": [
    {
     "data": {
      "text/plain": [
       "'mwzaxaj'"
      ]
     },
     "execution_count": 381,
     "metadata": {},
     "output_type": "execute_result"
    }
   ],
   "source": [
    "root_node.id"
   ]
  },
  {
   "cell_type": "markdown",
   "metadata": {},
   "source": [
    "### part 2"
   ]
  },
  {
   "cell_type": "code",
   "execution_count": 382,
   "metadata": {},
   "outputs": [],
   "source": [
    "def find_diff(node):\n",
    "    while True:\n",
    "        tmp = [c.sum_branch() for c in node.children]\n",
    "        c = Counter(tmp).most_common()\n",
    "\n",
    "        # balanced\n",
    "        if len(c) > 1:\n",
    "            ix = tmp.index(c[-1][0])\n",
    "            node = node.children[ix]\n",
    "            \n",
    "        else:\n",
    "            siblings_sum = [c.sum_branch() for c in node.siblings]\n",
    "            other_sum = siblings_sum[len(siblings_sum)-1-ix]\n",
    "            return other_sum - node.sum_children()"
   ]
  },
  {
   "cell_type": "code",
   "execution_count": 383,
   "metadata": {},
   "outputs": [
    {
     "data": {
      "text/plain": [
       "1219"
      ]
     },
     "execution_count": 383,
     "metadata": {},
     "output_type": "execute_result"
    }
   ],
   "source": [
    "find_diff(root_node)"
   ]
  }
 ],
 "metadata": {
  "kernelspec": {
   "display_name": "Python 3",
   "language": "python",
   "name": "python3"
  },
  "language_info": {
   "codemirror_mode": {
    "name": "ipython",
    "version": 3
   },
   "file_extension": ".py",
   "mimetype": "text/x-python",
   "name": "python",
   "nbconvert_exporter": "python",
   "pygments_lexer": "ipython3",
   "version": "3.6.3"
  }
 },
 "nbformat": 4,
 "nbformat_minor": 2
}
