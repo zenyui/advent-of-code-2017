{
 "cells": [
  {
   "cell_type": "code",
   "execution_count": 10,
   "metadata": {
    "collapsed": true
   },
   "outputs": [],
   "source": [
    "import re"
   ]
  },
  {
   "cell_type": "code",
   "execution_count": 1,
   "metadata": {
    "collapsed": true
   },
   "outputs": [],
   "source": [
    "with open('input.txt') as f:\n",
    "    data = f.read().strip().splitlines()"
   ]
  },
  {
   "cell_type": "code",
   "execution_count": 61,
   "metadata": {},
   "outputs": [],
   "source": [
    "class Node():\n",
    "    def __init__(self, name, weight=None, parent=None, children=None):\n",
    "        self.name=name\n",
    "        self.weight=weight\n",
    "        self.parent=parent\n",
    "        self.children=[]\n",
    "        \n",
    "        if children:\n",
    "            self.children.extend(children)\n",
    "        \n",
    "        nodes[self.name] = nodes\n",
    "        \n",
    "    def __repr__(self):\n",
    "        return '< Node {} >'.format(self.name)"
   ]
  },
  {
   "cell_type": "code",
   "execution_count": 31,
   "metadata": {
    "collapsed": true
   },
   "outputs": [],
   "source": [
    "node_data = {}"
   ]
  },
  {
   "cell_type": "code",
   "execution_count": 67,
   "metadata": {},
   "outputs": [],
   "source": [
    "for row in data:\n",
    "    node_name, payload = row.split(' ', 1)\n",
    "    payload = payload.split('->')\n",
    "    weight = re.sub(r'[^\\d]','',payload[0])\n",
    "    \n",
    "    tmp = {'weight': weight}\n",
    "    \n",
    "    if len(payload) > 1:\n",
    "        tmp['children'] = [child.strip() for child in payload[1].split(',')]\n",
    "        \n",
    "    node_data[node_name] = tmp\n",
    "        "
   ]
  },
  {
   "cell_type": "code",
   "execution_count": 85,
   "metadata": {
    "scrolled": false
   },
   "outputs": [],
   "source": [
    "node_store = {}\n",
    "    \n",
    "def make_nodes(node_ids, data, node_store, parent_id=None):\n",
    "    for node_id in node_ids:\n",
    "        node_data = data[node_id]\n",
    "        if not node_id in node_store:\n",
    "            node = Node(name=node_id)\n",
    "            node_store[node_id] = node\n",
    "            \n",
    "            if 'weight' in node_data:\n",
    "                node.weight = node_data['weight']\n",
    "        else:\n",
    "            node = node_store[node_id]\n",
    "        \n",
    "        if parent_id:\n",
    "            node.parent = parent_id\n",
    "        \n",
    "        if node_data.get('children') is not None:\n",
    "            node.children = node_data['children']\n",
    "            make_nodes(node.children, data, node_store, parent_id=node_id)\n",
    "\n",
    "                            \n",
    "make_nodes(node_data.keys(), node_data, node_store)"
   ]
  },
  {
   "cell_type": "code",
   "execution_count": 80,
   "metadata": {},
   "outputs": [],
   "source": [
    "winners = []\n",
    "for k,v in node_store.items():\n",
    "    if v.parent is None:\n",
    "        winners.append(k)"
   ]
  },
  {
   "cell_type": "code",
   "execution_count": 81,
   "metadata": {},
   "outputs": [
    {
     "data": {
      "text/plain": [
       "['mwzaxaj']"
      ]
     },
     "execution_count": 81,
     "metadata": {},
     "output_type": "execute_result"
    }
   ],
   "source": [
    "winners"
   ]
  },
  {
   "cell_type": "code",
   "execution_count": 88,
   "metadata": {
    "collapsed": true
   },
   "outputs": [],
   "source": [
    "root = node_store[winners[0]]"
   ]
  },
  {
   "cell_type": "code",
   "execution_count": 89,
   "metadata": {
    "collapsed": true
   },
   "outputs": [],
   "source": [
    "children = [node_store[id] for id in root.children]"
   ]
  },
  {
   "cell_type": "code",
   "execution_count": 92,
   "metadata": {
    "scrolled": true
   },
   "outputs": [
    {
     "data": {
      "text/plain": [
       "['kdtpg', 'wseyo', 'etcces', 'pnkag']"
      ]
     },
     "execution_count": 92,
     "metadata": {},
     "output_type": "execute_result"
    }
   ],
   "source": [
    "node_store['csybv'].children"
   ]
  },
  {
   "cell_type": "code",
   "execution_count": 90,
   "metadata": {},
   "outputs": [
    {
     "data": {
      "text/plain": [
       "[< Node csybv >,\n",
       " < Node febjzqn >,\n",
       " < Node bltmlm >,\n",
       " < Node dfyyjta >,\n",
       " < Node ljaktj >,\n",
       " < Node vmyda >,\n",
       " < Node vbcfe >]"
      ]
     },
     "execution_count": 90,
     "metadata": {},
     "output_type": "execute_result"
    }
   ],
   "source": [
    "def score_branch(node):\n",
    "    score = node.weight\n",
    "    \n",
    "    if node.children:\n",
    "        child = node_store[                                                                             e    ]"
   ]
  },
  {
   "cell_type": "code",
   "execution_count": null,
   "metadata": {
    "collapsed": true
   },
   "outputs": [],
   "source": []
  }
 ],
 "metadata": {
  "kernelspec": {
   "display_name": "Python 3",
   "language": "python",
   "name": "python3"
  },
  "language_info": {
   "codemirror_mode": {
    "name": "ipython",
    "version": 3
   },
   "file_extension": ".py",
   "mimetype": "text/x-python",
   "name": "python",
   "nbconvert_exporter": "python",
   "pygments_lexer": "ipython3",
   "version": "3.6.3"
  }
 },
 "nbformat": 4,
 "nbformat_minor": 2
}
